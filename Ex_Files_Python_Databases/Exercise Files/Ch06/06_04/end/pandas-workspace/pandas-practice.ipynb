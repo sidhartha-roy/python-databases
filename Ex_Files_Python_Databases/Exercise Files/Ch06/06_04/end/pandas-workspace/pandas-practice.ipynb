{
 "cells": [
  {
   "cell_type": "code",
   "execution_count": 19,
   "metadata": {},
   "outputs": [],
   "source": [
    "from sqlalchemy import create_engine\n",
    "from os import environ\n",
    "import pandas as pd\n",
    "import matplotlib\n",
    "\n",
    "db_uri = environ.get('SQLALCHEMY_SALES_URI')\n",
    "engine = create_engine(db_uri)"
   ]
  },
  {
   "cell_type": "code",
   "execution_count": 20,
   "metadata": {},
   "outputs": [],
   "source": [
    "salespeople_df = pd.read_sql_table(\"salesperson\", con=engine)"
   ]
  },
  {
   "cell_type": "code",
   "execution_count": 21,
   "metadata": {},
   "outputs": [],
   "source": [
    "# specific_salesperson_df = pd.read_sql_table(\"salesperson\", \n",
    "#                                             con=engine, \n",
    "#                                             index_col='id', \n",
    "#                                             coerce_float=True, \n",
    "#                                             columns=['id', 'city', 'state'],\n",
    "#                                             parse_dates=['dateColumn'],\n",
    "#                                             chunksize=250)"
   ]
  },
  {
   "cell_type": "code",
   "execution_count": 22,
   "metadata": {},
   "outputs": [],
   "source": [
    "email_df = pd.read_sql(\"SELECT email_address FROM salesperson LIMIT 10\", con=engine)"
   ]
  },
  {
   "cell_type": "code",
   "execution_count": 23,
   "metadata": {},
   "outputs": [
    {
     "data": {
      "text/plain": [
       "Texas\\r             9\n",
       "Florida\\r           4\n",
       "Virginia\\r          4\n",
       "California\\r        3\n",
       "Minnesota\\r         3\n",
       "Ohio\\r              3\n",
       "Tennessee\\r         2\n",
       "Washington\\r        2\n",
       "Kansas\\r            2\n",
       "Alabama\\r           2\n",
       "Oklahoma\\r          2\n",
       "Indiana\\r           2\n",
       "Utah\\r              1\n",
       "Connecticut\\r       1\n",
       "New York\\r          1\n",
       "Illinois\\r          1\n",
       "Kentucky\\r          1\n",
       "New Mexico\\r        1\n",
       "Arizona\\r           1\n",
       "Minnesota           1\n",
       "North Carolina\\r    1\n",
       "New Hampshire\\r     1\n",
       "Colorado\\r          1\n",
       "Massachusetts\\r     1\n",
       "Michigan\\r          1\n",
       "Name: state, dtype: int64"
      ]
     },
     "execution_count": 23,
     "metadata": {},
     "output_type": "execute_result"
    }
   ],
   "source": [
    "salespeople_df['state'].value_counts()"
   ]
  },
  {
   "cell_type": "code",
   "execution_count": 24,
   "metadata": {},
   "outputs": [
    {
     "data": {
      "text/plain": [
       "<matplotlib.axes._subplots.AxesSubplot at 0x112f3a3c8>"
      ]
     },
     "execution_count": 24,
     "metadata": {},
     "output_type": "execute_result"
    },
    {
     "name": "stderr",
     "output_type": "stream",
     "text": [
      "/Users/author/Library/Python/3.7/lib/python/site-packages/matplotlib/backends/backend_agg.py:214: RuntimeWarning: Glyph 13 missing from current font.\n",
      "  font.set_text(s, 0.0, flags=flags)\n",
      "/Users/author/Library/Python/3.7/lib/python/site-packages/matplotlib/backends/backend_agg.py:183: RuntimeWarning: Glyph 13 missing from current font.\n",
      "  font.set_text(s, 0, flags=flags)\n"
     ]
    },
    {
     "data": {
      "image/png": "[encoded data removed]",
      "text/plain": [
       "<Figure size 432x288 with 1 Axes>"
      ]
     },
     "metadata": {
      "needs_background": "light"
     },
     "output_type": "display_data"
    }
   ],
   "source": [
    "salespeople_df['state'].value_counts().plot(kind='barh')"
   ]
  },
  {
   "cell_type": "code",
   "execution_count": null,
   "metadata": {},
   "outputs": [],
   "source": []
  }
 ],
 "metadata": {
  "kernelspec": {
   "display_name": "Python 3",
   "language": "python",
   "name": "python3"
  },
  "language_info": {
   "codemirror_mode": {
    "name": "ipython",
    "version": 3
   },
   "file_extension": ".py",
   "mimetype": "text/x-python",
   "name": "python",
   "nbconvert_exporter": "python",
   "pygments_lexer": "ipython3",
   "version": "3.7.3"
  }
 },
 "nbformat": 4,
 "nbformat_minor": 4
}
